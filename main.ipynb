{
 "cells": [
  {
   "cell_type": "code",
   "execution_count": 35,
   "metadata": {},
   "outputs": [
    {
     "name": "stdout",
     "output_type": "stream",
     "text": [
      "Toyota 2016\n"
     ]
    }
   ],
   "source": [
    "class car:  \n",
    "    def __init__(self,modelname, year):  \n",
    "        self.modelname = modelname  \n",
    "        self.year = year  \n",
    "    def display(self):  \n",
    "        print(self.modelname,self.year)  \n",
    "  \n",
    "c1 = car(\"Toyota\", 2016)  \n",
    "c1.display()  "
   ]
  },
  {
   "cell_type": "code",
   "execution_count": 36,
   "metadata": {},
   "outputs": [
    {
     "name": "stdout",
     "output_type": "stream",
     "text": [
      "Hello, my name is Amol\n"
     ]
    }
   ],
   "source": [
    "class Person:  \n",
    "    def __init__(self, name, age):  \n",
    "        self.name = name    \n",
    "        self.age = age      \n",
    "    def greet(self):  \n",
    "        print(\"Hello, my name is \" + self.name)  \n",
    "  \n",
    "# Create a new instance of the Person class and assign it to the variable person1  \n",
    "person1 = Person(\"Amol\", 25)  \n",
    "person1.greet()   "
   ]
  },
  {
   "cell_type": "code",
   "execution_count": 37,
   "metadata": {},
   "outputs": [
    {
     "name": "stdout",
     "output_type": "stream",
     "text": [
      "2\n"
     ]
    }
   ],
   "source": [
    "class Person:  \n",
    "    count = 0   # This is a class variable  \n",
    "  \n",
    "    def __init__(self, name, age):  \n",
    "        self.name = name    # This is an instance variable  \n",
    "        self.age = age  \n",
    "        Person.count += 1   # Accessing the class variable using the name of the class  \n",
    "person1 = Person(\"Ayan\", 25)  \n",
    "person2 = Person(\"Bobby\", 30)  \n",
    "print(Person.count)  "
   ]
  },
  {
   "cell_type": "code",
   "execution_count": 38,
   "metadata": {},
   "outputs": [
    {
     "name": "stdout",
     "output_type": "stream",
     "text": [
      "Ayan\n",
      "30\n"
     ]
    }
   ],
   "source": [
    "class Person:  \n",
    "    def __init__(sefg, name, age):  \n",
    "        sefg.name = name    # This is an instance variable  \n",
    "        sefg.age = age  \n",
    "person1 = Person(\"Ayan\", 25)  \n",
    "person2 = Person(\"Bobby\", 30)  \n",
    "print(person1.name)    \n",
    "print(person2.age)  "
   ]
  },
  {
   "cell_type": "code",
   "execution_count": 39,
   "metadata": {},
   "outputs": [
    {
     "name": "stdout",
     "output_type": "stream",
     "text": [
      "ID: 101 \n",
      "Name: John\n",
      "ID: 102 \n",
      "Name: David\n"
     ]
    }
   ],
   "source": [
    "class Employee:  \n",
    "    def __init__(self, name, id):  \n",
    "        self.id = id  \n",
    "        self.name = name  \n",
    "  \n",
    "    def display(self):  \n",
    "        print(\"ID: %d \\nName: %s\" % (self.id, self.name))  \n",
    "  \n",
    "  \n",
    "emp1 = Employee(\"John\", 101)  \n",
    "emp2 = Employee(\"David\", 102)  \n",
    "  \n",
    "# accessing display() method to print employee 1 information  \n",
    "  \n",
    "emp1.display()  \n",
    "  \n",
    "# accessing display() method to print employee 2 information  \n",
    "emp2.display()  "
   ]
  },
  {
   "cell_type": "code",
   "execution_count": 40,
   "metadata": {},
   "outputs": [
    {
     "name": "stdout",
     "output_type": "stream",
     "text": [
      "The number of students: 3\n"
     ]
    }
   ],
   "source": [
    "class Student:    \n",
    "    count = 0    \n",
    "    def __init__(self):    \n",
    "        Student.count = Student.count + 1    \n",
    "s1=Student()    \n",
    "s2=Student()    \n",
    "s3=Student()    \n",
    "print(\"The number of students:\",Student.count)   "
   ]
  },
  {
   "cell_type": "code",
   "execution_count": 41,
   "metadata": {},
   "outputs": [
    {
     "name": "stdout",
     "output_type": "stream",
     "text": [
      "This is non parametrized constructor\n",
      "Hello John\n"
     ]
    }
   ],
   "source": [
    "class Student:  \n",
    "    # Constructor - non parameterized  \n",
    "    def __init__(self):  \n",
    "        print(\"This is non parametrized constructor\")  \n",
    "    def show(self,name):  \n",
    "        print(\"Hello\",name)  \n",
    "student = Student()  \n",
    "student.show(\"John\")   "
   ]
  },
  {
   "cell_type": "code",
   "execution_count": 42,
   "metadata": {},
   "outputs": [
    {
     "name": "stdout",
     "output_type": "stream",
     "text": [
      "This is parametrized constructor\n",
      "Hello John\n"
     ]
    }
   ],
   "source": [
    "class Student:  \n",
    "    # Constructor - parameterized  \n",
    "    def __init__(self, name):  \n",
    "        print(\"This is parametrized constructor\")  \n",
    "        self.name = name  \n",
    "    def show(self):  \n",
    "        print(\"Hello\",self.name)  \n",
    "student = Student(\"John\")  \n",
    "student.show()  "
   ]
  }
 ],
 "metadata": {
  "kernelspec": {
   "display_name": "Python 3",
   "language": "python",
   "name": "python3"
  },
  "language_info": {
   "codemirror_mode": {
    "name": "ipython",
    "version": 3
   },
   "file_extension": ".py",
   "mimetype": "text/x-python",
   "name": "python",
   "nbconvert_exporter": "python",
   "pygments_lexer": "ipython3",
   "version": "3.11.2"
  },
  "orig_nbformat": 4
 },
 "nbformat": 4,
 "nbformat_minor": 2
}
